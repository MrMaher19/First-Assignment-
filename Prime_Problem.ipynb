{
  "nbformat": 4,
  "nbformat_minor": 0,
  "metadata": {
    "colab": {
      "provenance": [],
      "authorship_tag": "ABX9TyNEcXBVnKWVX7gL0LcJchnE",
      "include_colab_link": true
    },
    "kernelspec": {
      "name": "python3",
      "display_name": "Python 3"
    },
    "language_info": {
      "name": "python"
    }
  },
  "cells": [
    {
      "cell_type": "markdown",
      "metadata": {
        "id": "view-in-github",
        "colab_type": "text"
      },
      "source": [
        "<a href=\"https://colab.research.google.com/github/MrMaher19/First-Assignment-/blob/main/Prime_Problem.ipynb\" target=\"_parent\"><img src=\"https://colab.research.google.com/assets/colab-badge.svg\" alt=\"Open In Colab\"/></a>"
      ]
    },
    {
      "cell_type": "code",
      "source": [
        "# Question :  11-50 porjonto number er modde je koita prime number ache segulo findout kore ekta list e rakhte hobe\n",
        "new_list = []\n",
        "for i in range(11,51):\n",
        "  for n in range(2,i):\n",
        "    if i % n == 0:\n",
        "      break\n",
        "  else:\n",
        "    new_list.append(i)\n",
        "print(new_list)"
      ],
      "metadata": {
        "colab": {
          "base_uri": "https://localhost:8080/"
        },
        "id": "IezR3ddssJR7",
        "outputId": "9190a387-c7ea-4f48-9ba8-3f5e7fa01951"
      },
      "execution_count": null,
      "outputs": [
        {
          "output_type": "stream",
          "name": "stdout",
          "text": [
            "[11, 13, 17, 19, 23, 29, 31, 37, 41, 43, 47]\n"
          ]
        }
      ]
    },
    {
      "cell_type": "code",
      "source": [
        "# Question :\n",
        "# a = [11,15,17,19]\n",
        "# retrun true if all the value are prime in the given list otherwise false.\n",
        "a = [11, 15, 17, 19]\n",
        "def prime_check(x):\n",
        "  for i in x:\n",
        "    for n in range(2,i):\n",
        "      if i % n == 0:\n",
        "        return False\n",
        "  return True\n",
        "print(prime_check(a))"
      ],
      "metadata": {
        "colab": {
          "base_uri": "https://localhost:8080/"
        },
        "id": "QoPiNv8QvPUv",
        "outputId": "81cf0d4c-8fa8-4d98-cdc8-50d1c6e6fbf7"
      },
      "execution_count": null,
      "outputs": [
        {
          "output_type": "stream",
          "name": "stdout",
          "text": [
            "False\n",
            "True\n"
          ]
        }
      ]
    },
    {
      "cell_type": "code",
      "source": [
        "# Question :\n",
        "# b = [2,5,7,11]\n",
        "# return true if all the value are prime in the given list oterwise false.\n",
        "b = [2, 5, 7, 11]\n",
        "def prime_check2(y):\n",
        "  for j in y:\n",
        "    for k in range(2,j):\n",
        "      if j % k == 0:\n",
        "        return False\n",
        "  return True\n",
        "print(prime_check2(b))"
      ],
      "metadata": {
        "colab": {
          "base_uri": "https://localhost:8080/"
        },
        "id": "asSrEKrKcOYS",
        "outputId": "45f32b94-ad39-4f20-9a5a-e1c2d41818fc"
      },
      "execution_count": null,
      "outputs": [
        {
          "output_type": "stream",
          "name": "stdout",
          "text": [
            "False\n"
          ]
        }
      ]
    }
  ]
}